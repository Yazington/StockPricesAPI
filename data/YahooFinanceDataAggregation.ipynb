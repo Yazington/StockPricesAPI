{
 "metadata": {
  "language_info": {
   "codemirror_mode": {
    "name": "ipython",
    "version": 3
   },
   "file_extension": ".py",
   "mimetype": "text/x-python",
   "name": "python",
   "nbconvert_exporter": "python",
   "pygments_lexer": "ipython3",
   "version": "3.8.3-final"
  },
  "orig_nbformat": 2,
  "kernelspec": {
   "name": "python38364bitd15901bea3a846d5b0242e0aadbec6cc",
   "display_name": "Python 3.8.3 64-bit",
   "language": "python"
  }
 },
 "nbformat": 4,
 "nbformat_minor": 2,
 "cells": [
  {
   "cell_type": "code",
   "execution_count": 6,
   "metadata": {},
   "outputs": [],
   "source": [
    "# !pip install yfinance --upgrade --no-cache-dir\n",
    "# !pip3 install yahoo-fin --upgrade --no-cache-dir \n",
    "# !pip3 install requests_html"
   ]
  },
  {
   "cell_type": "code",
   "execution_count": 15,
   "metadata": {},
   "outputs": [],
   "source": [
    "# import yfinance as yf\n",
    "from yahoo_fin import stock_info\n",
    "import time\n",
    "import pandas as pd"
   ]
  },
  {
   "cell_type": "code",
   "execution_count": 16,
   "metadata": {},
   "outputs": [],
   "source": [
    "# gme_financials = stock_info.get_analysts_info(\"GME\")\n",
    "# print(gme_financials.keys())\n",
    "# print(gme_financials[\"Earnings Estimate\"])\n",
    "# print(\"SPACE\")\n",
    "# print(gme_financials[\"Earnings Estimate\"][\"Current Qtr. (Jan 2021)\"])"
   ]
  },
  {
   "cell_type": "code",
   "execution_count": 23,
   "metadata": {},
   "outputs": [],
   "source": [
    "gme_epss = stock_info.get_income_statement(\"AAPL\", yearly=True)\n"
   ]
  },
  {
   "cell_type": "code",
   "execution_count": 24,
   "metadata": {},
   "outputs": [
    {
     "output_type": "stream",
     "name": "stdout",
     "text": [
      "endDate                              2020-09-26    2019-09-28    2018-09-29  \\\nBreakdown                                                                     \nresearchDevelopment                 18752000000   16217000000   14236000000   \neffectOfAccountingCharges                  None          None          None   \nincomeBeforeTax                     67091000000   65737000000   72903000000   \nminorityInterest                           None          None          None   \nnetIncome                           57411000000   55256000000   59531000000   \nsellingGeneralAdministrative        19916000000   18245000000   16705000000   \ngrossProfit                        104956000000   98392000000  101839000000   \nebit                                66288000000   63930000000   70898000000   \noperatingIncome                     66288000000   63930000000   70898000000   \notherOperatingExpenses                     None          None          None   \ninterestExpense                     -2873000000   -3576000000   -3240000000   \nextraordinaryItems                         None          None          None   \nnonRecurring                               None          None          None   \notherItems                                 None          None          None   \nincomeTaxExpense                     9680000000   10481000000   13372000000   \ntotalRevenue                       274515000000  260174000000  265595000000   \ntotalOperatingExpenses             208227000000  196244000000  194697000000   \ncostOfRevenue                      169559000000  161782000000  163756000000   \ntotalOtherIncomeExpenseNet            803000000    1807000000    2005000000   \ndiscontinuedOperations                     None          None          None   \nnetIncomeFromContinuingOps          57411000000   55256000000   59531000000   \nnetIncomeApplicableToCommonShares   57411000000   55256000000   59531000000   \n\nendDate                              2017-09-30  \nBreakdown                                        \nresearchDevelopment                 11581000000  \neffectOfAccountingCharges                  None  \nincomeBeforeTax                     64089000000  \nminorityInterest                           None  \nnetIncome                           48351000000  \nsellingGeneralAdministrative        15261000000  \ngrossProfit                         88186000000  \nebit                                61344000000  \noperatingIncome                     61344000000  \notherOperatingExpenses                     None  \ninterestExpense                     -2323000000  \nextraordinaryItems                         None  \nnonRecurring                               None  \notherItems                                 None  \nincomeTaxExpense                    15738000000  \ntotalRevenue                       229234000000  \ntotalOperatingExpenses             167890000000  \ncostOfRevenue                      141048000000  \ntotalOtherIncomeExpenseNet           2745000000  \ndiscontinuedOperations                     None  \nnetIncomeFromContinuingOps          48351000000  \nnetIncomeApplicableToCommonShares   48351000000  \n"
     ]
    }
   ],
   "source": [
    "end = \"2020-01-01T00:00:00\"\n",
    "start = \"2000-01-01T00:00:00\"\n",
    "# start_date = pd.to_datetime(start)\n",
    "# end_date = pd.to_datetime(end)\n",
    "print(gme_epss)\n"
   ]
  },
  {
   "cell_type": "code",
   "execution_count": null,
   "metadata": {},
   "outputs": [],
   "source": []
  }
 ]
}