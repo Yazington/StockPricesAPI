{
 "metadata": {
  "language_info": {
   "codemirror_mode": {
    "name": "ipython",
    "version": 3
   },
   "file_extension": ".py",
   "mimetype": "text/x-python",
   "name": "python",
   "nbconvert_exporter": "python",
   "pygments_lexer": "ipython3",
   "version": "3.8.3-final"
  },
  "orig_nbformat": 2,
  "kernelspec": {
   "name": "python38364bitd15901bea3a846d5b0242e0aadbec6cc",
   "display_name": "Python 3.8.3 64-bit",
   "language": "python"
  }
 },
 "nbformat": 4,
 "nbformat_minor": 2,
 "cells": [
  {
   "cell_type": "code",
   "execution_count": 6,
   "metadata": {},
   "outputs": [],
   "source": [
    "# !pip install yfinance --upgrade --no-cache-dir\n",
    "# !pip3 install yahoo-fin --upgrade --no-cache-dir \n",
    "# !pip3 install requests_html"
   ]
  },
  {
   "cell_type": "code",
   "execution_count": 1,
   "metadata": {},
   "outputs": [],
   "source": [
    "# import yfinance as yf\n",
    "from yahoo_fin import stock_info"
   ]
  },
  {
   "cell_type": "code",
   "execution_count": 29,
   "metadata": {},
   "outputs": [],
   "source": [
    "# gme_financials = stock_info.get_analysts_info(\"GME\")\n",
    "# print(gme_financials.keys())\n",
    "# print(gme_financials[\"Earnings Estimate\"])\n",
    "# print(\"SPACE\")\n",
    "# print(gme_financials[\"Earnings Estimate\"][\"Current Qtr. (Jan 2021)\"])"
   ]
  },
  {
   "cell_type": "code",
   "execution_count": 31,
   "metadata": {},
   "outputs": [],
   "source": [
    "gme_epss = sstock_info.get\n",
    "print(gme_epss)"
   ]
  },
  {
   "cell_type": "code",
   "execution_count": null,
   "metadata": {},
   "outputs": [],
   "source": []
  }
 ]
}