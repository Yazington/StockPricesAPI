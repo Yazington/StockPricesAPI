{
 "metadata": {
  "language_info": {
   "codemirror_mode": {
    "name": "ipython",
    "version": 3
   },
   "file_extension": ".py",
   "mimetype": "text/x-python",
   "name": "python",
   "nbconvert_exporter": "python",
   "pygments_lexer": "ipython3",
   "version": "3.8.3-final"
  },
  "orig_nbformat": 2,
  "kernelspec": {
   "name": "python38364bitd15901bea3a846d5b0242e0aadbec6cc",
   "display_name": "Python 3.8.3 64-bit",
   "language": "python"
  }
 },
 "nbformat": 4,
 "nbformat_minor": 2,
 "cells": [
  {
   "cell_type": "code",
   "execution_count": 6,
   "metadata": {},
   "outputs": [],
   "source": [
    "# !pip3 install twint //tweets\n",
    "# !pip3 install nest_asyncio // tweets helper\n",
    "# !pip3 install vaderSentiment // sentiment analysis\n",
    "# !pip3 install nbimporter // import functions between notebooks\n",
    "# !pip3 install nbformat\n"
   ]
  },
  {
   "cell_type": "code",
   "execution_count": 2,
   "metadata": {},
   "outputs": [],
   "source": [
    "import twint\n",
    "import nest_asyncio\n",
    "from vaderSentiment.vaderSentiment import SentimentIntensityAnalyzer\n",
    "import json\n",
    "import numpy as np\n",
    "from typing import List\n",
    "import datetime"
   ]
  },
  {
   "cell_type": "code",
   "execution_count": 3,
   "metadata": {},
   "outputs": [],
   "source": [
    "class TwitterAggregator():\n",
    "    REDUCTION_MULTIPLIER = 1e6\n",
    "    def __init__(self):\n",
    "        print(\"Hi from SentimentDataAggregation!\")\n",
    "        nest_asyncio.apply()\n",
    "\n",
    "    def getKeywordTweetsByDates(self, keyword:str, dateFrom:str, dateTo:str, maxTweets:int = 100) -> any:\n",
    "        \"\"\"\n",
    "        returns tweets for a stock between 2 dates of format (YYYY-MM-DD)\n",
    "        for many keywords, you can use OR or AND logics\n",
    "\n",
    "        Returns:\n",
    "            list: list of tweets\n",
    "        \"\"\"\n",
    "        tweets = []\n",
    "        g = twint.Config()\n",
    "        g.Search = keyword\n",
    "        g.Limit = maxTweets\n",
    "        g.Since = dateFrom\n",
    "        g.Until = dateTo\n",
    "        # g.Verified = True\n",
    "        # g.Popular = True\n",
    "        g.Hide_output = True\n",
    "        # c.Store_json = True\n",
    "        # c.Since = \"2021-01-26\"\n",
    "        g.Store_object = True\n",
    "        g.Store_object_tweets_list = tweets\n",
    "        # c.Output = 'AAPL2021.json'\n",
    "        twint.run.Search(g)\n",
    "        return tweets\n",
    "\n",
    "    def getSentimentsAnalysis(self, tweets:list):\n",
    "        \"\"\"\n",
    "        returns tweets analysis in the form of a matrix\n",
    "\n",
    "        Returns:\n",
    "            np.array: matrix of columns (neg, neutral, pos, compound)\n",
    "        \"\"\"\n",
    "        analyzer = SentimentIntensityAnalyzer()\n",
    "        analysisMatrix = np.zeros((0, 4))\n",
    "        for tweetObj in tweets:\n",
    "            vs = analyzer.polarity_scores(tweetObj.tweet)\n",
    "            sentiment = np.array([[vs[\"neg\"], vs[\"neu\"], vs[\"pos\"], vs[\"compound\"]]])\n",
    "            analysisMatrix = np.append(analysisMatrix, sentiment , axis=0)\n",
    "        return analysisMatrix\n",
    "\n",
    "    def datetime_to_float(self,d:datetime)->float:\n",
    "        epoch = datetime.datetime.utcfromtimestamp(0)\n",
    "        total_seconds =  (d - epoch).total_seconds()\n",
    "        # total_seconds will be in decimals (millisecond precision)\n",
    "        return total_seconds/self.REDUCTION_MULTIPLIER\n",
    "\n",
    "    def float_to_datetime(self,fl)->datetime:\n",
    "        return datetime.datetime.fromtimestamp(fl)"
   ]
  },
  {
   "cell_type": "code",
   "execution_count": null,
   "metadata": {},
   "outputs": [],
   "source": []
  }
 ]
}