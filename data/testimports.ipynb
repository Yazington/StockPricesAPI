{
 "metadata": {
  "language_info": {
   "codemirror_mode": {
    "name": "ipython",
    "version": 3
   },
   "file_extension": ".py",
   "mimetype": "text/x-python",
   "name": "python",
   "nbconvert_exporter": "python",
   "pygments_lexer": "ipython3",
   "version": "3.8.3-final"
  },
  "orig_nbformat": 2,
  "kernelspec": {
   "name": "python38364bitd15901bea3a846d5b0242e0aadbec6cc",
   "display_name": "Python 3.8.3 64-bit",
   "language": "python"
  }
 },
 "nbformat": 4,
 "nbformat_minor": 2,
 "cells": [
  {
   "cell_type": "code",
   "execution_count": 1,
   "metadata": {},
   "outputs": [
    {
     "output_type": "stream",
     "name": "stdout",
     "text": [
      "Importing Jupyter notebook from SentimentDataAggregation.ipynb\n"
     ]
    }
   ],
   "source": [
    "import twint\n",
    "import nbimporter\n",
    "import SentimentDataAggregation as sda\n",
    "import datetime\n",
    "import re"
   ]
  },
  {
   "cell_type": "code",
   "execution_count": 2,
   "metadata": {},
   "outputs": [
    {
     "output_type": "stream",
     "name": "stdout",
     "text": [
      "Hi from SentimentDataAggregation!\n"
     ]
    }
   ],
   "source": [
    "twitterAnalyzer = sda.TwitterAggregator()\n"
   ]
  },
  {
   "cell_type": "code",
   "execution_count": 3,
   "metadata": {},
   "outputs": [],
   "source": [
    "tweets = twitterAnalyzer.getKeywordTweetsByDates(\"$NOK OR NOK OR NOKIA\", \"2021-01-30\", \"2021-02-01\", 200)\n",
    "sentiments = twitterAnalyzer.getSentimentsAnalysis(tweets)"
   ]
  },
  {
   "cell_type": "code",
   "execution_count": 4,
   "metadata": {},
   "outputs": [
    {
     "output_type": "stream",
     "name": "stdout",
     "text": [
      "2021-01-30 18:59:49 Eastern Standard Time\n2021-01-30 18:59:49   \n"
     ]
    }
   ],
   "source": [
    "dateTimeWithoutAlphabeticals = re.sub(r'[^0-9| \\- |:]', '', tweets[0].datetime)\n",
    "# dateTimeWithoutAlphabeticals = re.sub(r'[^0-9][\\ ]', '', tweets[0].datetime)\n",
    "print(tweets[0].datetime)\n",
    "print(dateTimeWithoutAlphabeticals)\n",
    "date_time_obj = datetime.datetime.strptime(dateTimeWithoutAlphabeticals, '%Y-%m-%d %H:%M:%S   ')\n",
    "\n",
    "# print('Date:', date_time_obj.date())\n",
    "# print('Time:', date_time_obj.time())\n",
    "# print('Date-time:', date_time_obj)\n",
    "\n",
    "\n",
    "# print(sentiments.shape)"
   ]
  },
  {
   "cell_type": "code",
   "execution_count": 5,
   "metadata": {},
   "outputs": [
    {
     "output_type": "stream",
     "name": "stdout",
     "text": [
      "1612.033189\n"
     ]
    }
   ],
   "source": [
    "print(twitterAnalyzer.datetime_to_float(date_time_obj))"
   ]
  },
  {
   "cell_type": "code",
   "execution_count": null,
   "metadata": {},
   "outputs": [],
   "source": []
  }
 ]
}